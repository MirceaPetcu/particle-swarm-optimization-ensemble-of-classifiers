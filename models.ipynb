{
 "cells": [
  {
   "cell_type": "code",
   "execution_count": 1,
   "metadata": {},
   "outputs": [],
   "source": [
    "import pandas as pd\n",
    "import numpy as np\n",
    "import matplotlib.pyplot as plt\n",
    "import seaborn as sns\n",
    "import os"
   ]
  },
  {
   "cell_type": "code",
   "execution_count": 2,
   "metadata": {},
   "outputs": [
    {
     "data": {
      "text/plain": [
       "(768, 9)"
      ]
     },
     "execution_count": 2,
     "metadata": {},
     "output_type": "execute_result"
    }
   ],
   "source": [
    "df = pd.read_csv('diabetes.csv')\n",
    "df.shape"
   ]
  },
  {
   "cell_type": "code",
   "execution_count": 3,
   "metadata": {},
   "outputs": [
    {
     "name": "stderr",
     "output_type": "stream",
     "text": [
      "/home/mircea/anaconda3/envs/ami_venv/lib/python3.11/site-packages/numpy/core/fromnumeric.py:59: FutureWarning: 'DataFrame.swapaxes' is deprecated and will be removed in a future version. Please use 'DataFrame.transpose' instead.\n",
      "  return bound(*args, **kwds)\n"
     ]
    },
    {
     "data": {
      "text/plain": [
       "((460, 9), (154, 9), (154, 9))"
      ]
     },
     "execution_count": 3,
     "metadata": {},
     "output_type": "execute_result"
    }
   ],
   "source": [
    "train, validate, test = np.split(df.sample(frac=1), [int(.6*len(df)), int(.8*len(df))])\n",
    "train.shape, validate.shape, test.shape"
   ]
  },
  {
   "cell_type": "code",
   "execution_count": 4,
   "metadata": {},
   "outputs": [],
   "source": [
    "train.to_csv('diabetes_train.csv', index=False)\n",
    "validate.to_csv('diabetes_validate.csv', index=False)\n",
    "test.to_csv('diabetes_test.csv', index=False)"
   ]
  },
  {
   "cell_type": "code",
   "execution_count": 8,
   "metadata": {},
   "outputs": [
    {
     "name": "stdout",
     "output_type": "stream",
     "text": [
      "0.7207792207792207\n"
     ]
    },
    {
     "name": "stderr",
     "output_type": "stream",
     "text": [
      "/home/mircea/anaconda3/envs/ami_venv/lib/python3.11/site-packages/sklearn/utils/validation.py:767: FutureWarning: is_sparse is deprecated and will be removed in a future version. Check `isinstance(dtype, pd.SparseDtype)` instead.\n",
      "  if not hasattr(array, \"sparse\") and array.dtypes.apply(is_sparse).any():\n",
      "/home/mircea/anaconda3/envs/ami_venv/lib/python3.11/site-packages/sklearn/utils/validation.py:605: FutureWarning: is_sparse is deprecated and will be removed in a future version. Check `isinstance(dtype, pd.SparseDtype)` instead.\n",
      "  if is_sparse(pd_dtype):\n",
      "/home/mircea/anaconda3/envs/ami_venv/lib/python3.11/site-packages/sklearn/utils/validation.py:614: FutureWarning: is_sparse is deprecated and will be removed in a future version. Check `isinstance(dtype, pd.SparseDtype)` instead.\n",
      "  if is_sparse(pd_dtype) or not is_extension_array_dtype(pd_dtype):\n",
      "/home/mircea/anaconda3/envs/ami_venv/lib/python3.11/site-packages/sklearn/utils/validation.py:605: FutureWarning: is_sparse is deprecated and will be removed in a future version. Check `isinstance(dtype, pd.SparseDtype)` instead.\n",
      "  if is_sparse(pd_dtype):\n",
      "/home/mircea/anaconda3/envs/ami_venv/lib/python3.11/site-packages/sklearn/utils/validation.py:614: FutureWarning: is_sparse is deprecated and will be removed in a future version. Check `isinstance(dtype, pd.SparseDtype)` instead.\n",
      "  if is_sparse(pd_dtype) or not is_extension_array_dtype(pd_dtype):\n",
      "/home/mircea/anaconda3/envs/ami_venv/lib/python3.11/site-packages/sklearn/utils/validation.py:767: FutureWarning: is_sparse is deprecated and will be removed in a future version. Check `isinstance(dtype, pd.SparseDtype)` instead.\n",
      "  if not hasattr(array, \"sparse\") and array.dtypes.apply(is_sparse).any():\n",
      "/home/mircea/anaconda3/envs/ami_venv/lib/python3.11/site-packages/sklearn/utils/validation.py:605: FutureWarning: is_sparse is deprecated and will be removed in a future version. Check `isinstance(dtype, pd.SparseDtype)` instead.\n",
      "  if is_sparse(pd_dtype):\n",
      "/home/mircea/anaconda3/envs/ami_venv/lib/python3.11/site-packages/sklearn/utils/validation.py:614: FutureWarning: is_sparse is deprecated and will be removed in a future version. Check `isinstance(dtype, pd.SparseDtype)` instead.\n",
      "  if is_sparse(pd_dtype) or not is_extension_array_dtype(pd_dtype):\n",
      "/home/mircea/anaconda3/envs/ami_venv/lib/python3.11/site-packages/sklearn/utils/validation.py:605: FutureWarning: is_sparse is deprecated and will be removed in a future version. Check `isinstance(dtype, pd.SparseDtype)` instead.\n",
      "  if is_sparse(pd_dtype):\n",
      "/home/mircea/anaconda3/envs/ami_venv/lib/python3.11/site-packages/sklearn/utils/validation.py:614: FutureWarning: is_sparse is deprecated and will be removed in a future version. Check `isinstance(dtype, pd.SparseDtype)` instead.\n",
      "  if is_sparse(pd_dtype) or not is_extension_array_dtype(pd_dtype):\n",
      "/home/mircea/anaconda3/envs/ami_venv/lib/python3.11/site-packages/sklearn/utils/validation.py:605: FutureWarning: is_sparse is deprecated and will be removed in a future version. Check `isinstance(dtype, pd.SparseDtype)` instead.\n",
      "  if is_sparse(pd_dtype):\n",
      "/home/mircea/anaconda3/envs/ami_venv/lib/python3.11/site-packages/sklearn/utils/validation.py:614: FutureWarning: is_sparse is deprecated and will be removed in a future version. Check `isinstance(dtype, pd.SparseDtype)` instead.\n",
      "  if is_sparse(pd_dtype) or not is_extension_array_dtype(pd_dtype):\n",
      "/home/mircea/anaconda3/envs/ami_venv/lib/python3.11/site-packages/sklearn/utils/validation.py:605: FutureWarning: is_sparse is deprecated and will be removed in a future version. Check `isinstance(dtype, pd.SparseDtype)` instead.\n",
      "  if is_sparse(pd_dtype):\n",
      "/home/mircea/anaconda3/envs/ami_venv/lib/python3.11/site-packages/sklearn/utils/validation.py:614: FutureWarning: is_sparse is deprecated and will be removed in a future version. Check `isinstance(dtype, pd.SparseDtype)` instead.\n",
      "  if is_sparse(pd_dtype) or not is_extension_array_dtype(pd_dtype):\n"
     ]
    }
   ],
   "source": [
    "from sklearn.tree import DecisionTreeClassifier\n",
    "from sklearn import metrics\n",
    "dt = DecisionTreeClassifier(random_state=42)\n",
    "dt.fit(train.drop(columns='Outcome'), train.Outcome)\n",
    "y_pred = dt.predict(test.drop(columns='Outcome'))\n",
    "print(metrics.accuracy_score(test.Outcome, y_pred))"
   ]
  },
  {
   "cell_type": "code",
   "execution_count": 2,
   "metadata": {},
   "outputs": [],
   "source": [
    "df_train = pd.read_csv('new_train.csv')\n",
    "df_test = pd.read_csv('new_test.csv')\n",
    "df_train = df_train.sample(frac=1.0, random_state=42).reset_index(drop=True)\n",
    "df_test = df_test.sample(frac=1.0, random_state=42).reset_index(drop=True)\n",
    "x_train,y_train = df_train.drop(['race'],axis=1),df_train['race']\n",
    "x_test,y_test = df_test.drop(['race'],axis=1),df_test['race']"
   ]
  },
  {
   "cell_type": "code",
   "execution_count": 3,
   "metadata": {},
   "outputs": [
    {
     "data": {
      "text/plain": [
       "((12211, 13), (36631, 13))"
      ]
     },
     "execution_count": 3,
     "metadata": {},
     "output_type": "execute_result"
    }
   ],
   "source": [
    "x_test.shape,x_train.shape"
   ]
  },
  {
   "cell_type": "code",
   "execution_count": 4,
   "metadata": {},
   "outputs": [],
   "source": [
    "x_train.reset_index(drop=True, inplace=True)\n",
    "x_test.reset_index(drop=True, inplace=True)\n",
    "y_train.reset_index(drop=True, inplace=True)\n",
    "y_test.reset_index(drop=True, inplace=True)"
   ]
  },
  {
   "cell_type": "code",
   "execution_count": 5,
   "metadata": {},
   "outputs": [
    {
     "data": {
      "text/html": [
       "<div>\n",
       "<style scoped>\n",
       "    .dataframe tbody tr th:only-of-type {\n",
       "        vertical-align: middle;\n",
       "    }\n",
       "\n",
       "    .dataframe tbody tr th {\n",
       "        vertical-align: top;\n",
       "    }\n",
       "\n",
       "    .dataframe thead th {\n",
       "        text-align: right;\n",
       "    }\n",
       "</style>\n",
       "<table border=\"1\" class=\"dataframe\">\n",
       "  <thead>\n",
       "    <tr style=\"text-align: right;\">\n",
       "      <th></th>\n",
       "      <th>age</th>\n",
       "      <th>capital_gain</th>\n",
       "      <th>capital_loss</th>\n",
       "      <th>education</th>\n",
       "      <th>final_weight</th>\n",
       "      <th>hours_worked_per_week</th>\n",
       "      <th>marital_status</th>\n",
       "      <th>native_country</th>\n",
       "      <th>occupation</th>\n",
       "      <th>relationship</th>\n",
       "      <th>is_male</th>\n",
       "      <th>workclass</th>\n",
       "      <th>over_threshold</th>\n",
       "    </tr>\n",
       "  </thead>\n",
       "  <tbody>\n",
       "    <tr>\n",
       "      <th>0</th>\n",
       "      <td>2</td>\n",
       "      <td>0.0</td>\n",
       "      <td>0.0</td>\n",
       "      <td>14</td>\n",
       "      <td>341846</td>\n",
       "      <td>50</td>\n",
       "      <td>4</td>\n",
       "      <td>38</td>\n",
       "      <td>10</td>\n",
       "      <td>1</td>\n",
       "      <td>0</td>\n",
       "      <td>4</td>\n",
       "      <td>0</td>\n",
       "    </tr>\n",
       "    <tr>\n",
       "      <th>1</th>\n",
       "      <td>6</td>\n",
       "      <td>0.0</td>\n",
       "      <td>0.0</td>\n",
       "      <td>4</td>\n",
       "      <td>255822</td>\n",
       "      <td>40</td>\n",
       "      <td>2</td>\n",
       "      <td>38</td>\n",
       "      <td>6</td>\n",
       "      <td>0</td>\n",
       "      <td>1</td>\n",
       "      <td>4</td>\n",
       "      <td>0</td>\n",
       "    </tr>\n",
       "    <tr>\n",
       "      <th>2</th>\n",
       "      <td>6</td>\n",
       "      <td>0.0</td>\n",
       "      <td>0.0</td>\n",
       "      <td>9</td>\n",
       "      <td>208915</td>\n",
       "      <td>40</td>\n",
       "      <td>6</td>\n",
       "      <td>1</td>\n",
       "      <td>3</td>\n",
       "      <td>2</td>\n",
       "      <td>0</td>\n",
       "      <td>4</td>\n",
       "      <td>0</td>\n",
       "    </tr>\n",
       "    <tr>\n",
       "      <th>3</th>\n",
       "      <td>2</td>\n",
       "      <td>0.0</td>\n",
       "      <td>0.0</td>\n",
       "      <td>13</td>\n",
       "      <td>341187</td>\n",
       "      <td>50</td>\n",
       "      <td>2</td>\n",
       "      <td>38</td>\n",
       "      <td>4</td>\n",
       "      <td>0</td>\n",
       "      <td>1</td>\n",
       "      <td>4</td>\n",
       "      <td>1</td>\n",
       "    </tr>\n",
       "    <tr>\n",
       "      <th>4</th>\n",
       "      <td>3</td>\n",
       "      <td>0.0</td>\n",
       "      <td>0.0</td>\n",
       "      <td>10</td>\n",
       "      <td>237091</td>\n",
       "      <td>36</td>\n",
       "      <td>3</td>\n",
       "      <td>28</td>\n",
       "      <td>8</td>\n",
       "      <td>4</td>\n",
       "      <td>0</td>\n",
       "      <td>4</td>\n",
       "      <td>0</td>\n",
       "    </tr>\n",
       "  </tbody>\n",
       "</table>\n",
       "</div>"
      ],
      "text/plain": [
       "   age  capital_gain  capital_loss  education  final_weight  \\\n",
       "0    2           0.0           0.0         14        341846   \n",
       "1    6           0.0           0.0          4        255822   \n",
       "2    6           0.0           0.0          9        208915   \n",
       "3    2           0.0           0.0         13        341187   \n",
       "4    3           0.0           0.0         10        237091   \n",
       "\n",
       "   hours_worked_per_week  marital_status  native_country  occupation  \\\n",
       "0                     50               4              38          10   \n",
       "1                     40               2              38           6   \n",
       "2                     40               6               1           3   \n",
       "3                     50               2              38           4   \n",
       "4                     36               3              28           8   \n",
       "\n",
       "   relationship  is_male  workclass  over_threshold  \n",
       "0             1        0          4               0  \n",
       "1             0        1          4               0  \n",
       "2             2        0          4               0  \n",
       "3             0        1          4               1  \n",
       "4             4        0          4               0  "
      ]
     },
     "execution_count": 5,
     "metadata": {},
     "output_type": "execute_result"
    }
   ],
   "source": [
    "x_test.head()"
   ]
  },
  {
   "cell_type": "code",
   "execution_count": 6,
   "metadata": {},
   "outputs": [],
   "source": [
    "from sklearn.preprocessing import StandardScaler\n",
    "scaler = StandardScaler()"
   ]
  },
  {
   "cell_type": "code",
   "execution_count": 7,
   "metadata": {},
   "outputs": [
    {
     "data": {
      "text/plain": [
       "<Axes: >"
      ]
     },
     "execution_count": 7,
     "metadata": {},
     "output_type": "execute_result"
    },
    {
     "data": {
      "image/png": "[encoded data removed]",
      "text/plain": [
       "<Figure size 640x480 with 2 Axes>"
      ]
     },
     "metadata": {},
     "output_type": "display_data"
    }
   ],
   "source": [
    "sns.heatmap(df_test.corr(),annot=True,cmap='coolwarm')"
   ]
  },
  {
   "cell_type": "code",
   "execution_count": 8,
   "metadata": {},
   "outputs": [],
   "source": [
    "def get_metrics(y_test,y_pred):\n",
    "    from sklearn import metrics\n",
    "    print(\"Accuracy:\",metrics.accuracy_score(y_test, y_pred))\n",
    "    print(metrics.classification_report(y_test, y_pred))\n",
    "    print(metrics.confusion_matrix(y_test, y_pred))\n",
    "    # print(metrics.average_precision_score(y_test, y_pred))"
   ]
  },
  {
   "cell_type": "code",
   "execution_count": 9,
   "metadata": {},
   "outputs": [
    {
     "name": "stdout",
     "output_type": "stream",
     "text": [
      "[LightGBM] [Info] Auto-choosing col-wise multi-threading, the overhead of testing was 0.007280 seconds.\n",
      "You can set `force_col_wise=true` to remove the overhead.\n",
      "[LightGBM] [Info] Total Bins 633\n",
      "[LightGBM] [Info] Number of data points in the train set: 36631, number of used features: 13\n",
      "[LightGBM] [Info] Start training from score -0.156351\n",
      "[LightGBM] [Info] Start training from score -2.348132\n",
      "[LightGBM] [Info] Start training from score -3.455929\n",
      "[LightGBM] [Info] Start training from score -4.670920\n",
      "[LightGBM] [Info] Start training from score -4.794917\n"
     ]
    }
   ],
   "source": [
    "import lightgbm as lgb\n",
    "import warnings\n",
    "warnings.filterwarnings('ignore')\n",
    "lgb = lgb.LGBMClassifier(n_estimators=300,is_unbalance=True,random_state=42)\n",
    "lgb.fit(x_train,y_train)\n",
    "y_pred = lgb.predict(x_test)"
   ]
  },
  {
   "cell_type": "code",
   "execution_count": 10,
   "metadata": {},
   "outputs": [
    {
     "name": "stdout",
     "output_type": "stream",
     "text": [
      "Accuracy: 0.46392596838915734\n",
      "              precision    recall  f1-score   support\n",
      "\n",
      "           0       0.89      0.45      0.60     10433\n",
      "           1       0.17      0.71      0.28      1185\n",
      "           2       0.07      0.37      0.11       363\n",
      "           3       0.35      0.05      0.08       127\n",
      "           4       0.15      0.02      0.03       103\n",
      "\n",
      "    accuracy                           0.46     12211\n",
      "   macro avg       0.33      0.32      0.22     12211\n",
      "weighted avg       0.79      0.46      0.54     12211\n",
      "\n",
      "[[4676 3985 1753   10    9]\n",
      " [ 255  847   82    0    1]\n",
      " [ 196   31  134    1    1]\n",
      " [  61   34   26    6    0]\n",
      " [  58   27   16    0    2]]\n"
     ]
    }
   ],
   "source": [
    "get_metrics(y_test,y_pred)"
   ]
  },
  {
   "cell_type": "code",
   "execution_count": 11,
   "metadata": {},
   "outputs": [],
   "source": [
    "from sklearn.ensemble import RandomForestClassifier\n",
    "rf = RandomForestClassifier(n_estimators=100,random_state=42,class_weight='balanced_subsample')\n",
    "rf.fit(x_train,y_train)\n",
    "y_pred= rf.predict(x_test)"
   ]
  },
  {
   "cell_type": "code",
   "execution_count": 12,
   "metadata": {},
   "outputs": [
    {
     "name": "stdout",
     "output_type": "stream",
     "text": [
      "Accuracy: 0.8516092048153304\n",
      "              precision    recall  f1-score   support\n",
      "\n",
      "           0       0.87      0.98      0.92     10433\n",
      "           1       0.44      0.09      0.15      1185\n",
      "           2       0.42      0.17      0.25       363\n",
      "           3       1.00      0.01      0.02       127\n",
      "           4       0.00      0.00      0.00       103\n",
      "\n",
      "    accuracy                           0.85     12211\n",
      "   macro avg       0.54      0.25      0.27     12211\n",
      "weighted avg       0.80      0.85      0.81     12211\n",
      "\n",
      "[[10231   125    75     0     2]\n",
      " [ 1073   104     8     0     0]\n",
      " [  297     3    63     0     0]\n",
      " [  120     3     3     1     0]\n",
      " [   98     3     2     0     0]]\n"
     ]
    }
   ],
   "source": [
    "get_metrics(y_test,y_pred)"
   ]
  },
  {
   "cell_type": "code",
   "execution_count": 13,
   "metadata": {},
   "outputs": [],
   "source": [
    "from sklearn.tree import DecisionTreeClassifier\n",
    "dt = DecisionTreeClassifier(random_state=42,class_weight='balanced')\n",
    "dt.fit(x_train,y_train)\n",
    "y_pred = dt.predict(x_test)"
   ]
  },
  {
   "cell_type": "code",
   "execution_count": 14,
   "metadata": {},
   "outputs": [
    {
     "name": "stdout",
     "output_type": "stream",
     "text": [
      "Accuracy: 0.7231184997133732\n",
      "              precision    recall  f1-score   support\n",
      "\n",
      "           0       0.88      0.80      0.84     10433\n",
      "           1       0.22      0.28      0.24      1185\n",
      "           2       0.13      0.30      0.18       363\n",
      "           3       0.07      0.07      0.07       127\n",
      "           4       0.06      0.11      0.07       103\n",
      "\n",
      "    accuracy                           0.72     12211\n",
      "   macro avg       0.27      0.31      0.28     12211\n",
      "weighted avg       0.78      0.72      0.75     12211\n",
      "\n",
      "[[8369 1144  675  110  135]\n",
      " [ 761  331   41    8   44]\n",
      " [ 203   40  110    1    9]\n",
      " [ 100    9    8    9    1]\n",
      " [  65   14   13    0   11]]\n"
     ]
    }
   ],
   "source": [
    "get_metrics(y_test,y_pred)"
   ]
  },
  {
   "cell_type": "code",
   "execution_count": 15,
   "metadata": {},
   "outputs": [],
   "source": [
    "import xgboost as xgb\n",
    "xgb = xgb.XGBClassifier(n_estimators=300,random_state=42)\n",
    "xgb.fit(x_train,y_train)\n",
    "y_pred = xgb.predict(x_test)"
   ]
  },
  {
   "cell_type": "code",
   "execution_count": 16,
   "metadata": {},
   "outputs": [
    {
     "name": "stdout",
     "output_type": "stream",
     "text": [
      "Accuracy: 0.4043075915158464\n",
      "              precision    recall  f1-score   support\n",
      "\n",
      "           0       0.89      0.37      0.52     10433\n",
      "           1       0.13      0.77      0.23      1185\n",
      "           2       0.14      0.34      0.19       363\n",
      "           3       0.38      0.14      0.21       127\n",
      "           4       0.20      0.06      0.09       103\n",
      "\n",
      "    accuracy                           0.40     12211\n",
      "   macro avg       0.35      0.34      0.25     12211\n",
      "weighted avg       0.78      0.40      0.48     12211\n",
      "\n",
      "[[3874 5781  732   26   20]\n",
      " [ 231  915   34    4    1]\n",
      " [ 180   57  124    0    2]\n",
      " [  35   60   13   18    1]\n",
      " [  54   33   10    0    6]]\n"
     ]
    }
   ],
   "source": [
    "get_metrics(y_test,y_pred)"
   ]
  },
  {
   "cell_type": "code",
   "execution_count": 17,
   "metadata": {},
   "outputs": [
    {
     "name": "stdout",
     "output_type": "stream",
     "text": [
      "Learning rate set to 0.262974\n",
      "0:\tlearn: 0.9942733\ttotal: 65.6ms\tremaining: 19.6s\n",
      "1:\tlearn: 0.8013748\ttotal: 76.1ms\tremaining: 11.3s\n",
      "2:\tlearn: 0.6947430\ttotal: 85.4ms\tremaining: 8.45s\n",
      "3:\tlearn: 0.6238170\ttotal: 94.3ms\tremaining: 6.98s\n",
      "4:\tlearn: 0.5749911\ttotal: 102ms\tremaining: 6s\n",
      "5:\tlearn: 0.5382478\ttotal: 112ms\tremaining: 5.47s\n",
      "6:\tlearn: 0.5170957\ttotal: 121ms\tremaining: 5.05s\n",
      "7:\tlearn: 0.4995538\ttotal: 130ms\tremaining: 4.74s\n",
      "8:\tlearn: 0.4861015\ttotal: 137ms\tremaining: 4.44s\n",
      "9:\tlearn: 0.4764386\ttotal: 144ms\tremaining: 4.18s\n",
      "10:\tlearn: 0.4698453\ttotal: 153ms\tremaining: 4.02s\n",
      "11:\tlearn: 0.4648944\ttotal: 165ms\tremaining: 3.96s\n",
      "12:\tlearn: 0.4578115\ttotal: 174ms\tremaining: 3.83s\n",
      "13:\tlearn: 0.4538967\ttotal: 182ms\tremaining: 3.71s\n",
      "14:\tlearn: 0.4500156\ttotal: 190ms\tremaining: 3.61s\n",
      "15:\tlearn: 0.4474487\ttotal: 199ms\tremaining: 3.54s\n",
      "16:\tlearn: 0.4427210\ttotal: 208ms\tremaining: 3.46s\n",
      "17:\tlearn: 0.4409524\ttotal: 217ms\tremaining: 3.4s\n",
      "18:\tlearn: 0.4378149\ttotal: 226ms\tremaining: 3.34s\n",
      "19:\tlearn: 0.4344081\ttotal: 236ms\tremaining: 3.31s\n",
      "20:\tlearn: 0.4320017\ttotal: 245ms\tremaining: 3.25s\n",
      "21:\tlearn: 0.4305226\ttotal: 253ms\tremaining: 3.19s\n",
      "22:\tlearn: 0.4279587\ttotal: 262ms\tremaining: 3.15s\n",
      "23:\tlearn: 0.4262032\ttotal: 271ms\tremaining: 3.12s\n",
      "24:\tlearn: 0.4249932\ttotal: 280ms\tremaining: 3.08s\n",
      "25:\tlearn: 0.4233412\ttotal: 290ms\tremaining: 3.05s\n",
      "26:\tlearn: 0.4225927\ttotal: 298ms\tremaining: 3.01s\n",
      "27:\tlearn: 0.4220734\ttotal: 307ms\tremaining: 2.98s\n",
      "28:\tlearn: 0.4213350\ttotal: 316ms\tremaining: 2.95s\n",
      "29:\tlearn: 0.4203946\ttotal: 324ms\tremaining: 2.92s\n",
      "30:\tlearn: 0.4194333\ttotal: 333ms\tremaining: 2.89s\n",
      "31:\tlearn: 0.4181477\ttotal: 340ms\tremaining: 2.85s\n",
      "32:\tlearn: 0.4170536\ttotal: 349ms\tremaining: 2.82s\n",
      "33:\tlearn: 0.4163294\ttotal: 356ms\tremaining: 2.79s\n",
      "34:\tlearn: 0.4153241\ttotal: 364ms\tremaining: 2.76s\n",
      "35:\tlearn: 0.4141608\ttotal: 371ms\tremaining: 2.72s\n",
      "36:\tlearn: 0.4130736\ttotal: 380ms\tremaining: 2.7s\n",
      "37:\tlearn: 0.4126724\ttotal: 387ms\tremaining: 2.67s\n",
      "38:\tlearn: 0.4118787\ttotal: 395ms\tremaining: 2.64s\n",
      "39:\tlearn: 0.4101573\ttotal: 404ms\tremaining: 2.63s\n",
      "40:\tlearn: 0.4094990\ttotal: 412ms\tremaining: 2.6s\n",
      "41:\tlearn: 0.4090097\ttotal: 419ms\tremaining: 2.57s\n",
      "42:\tlearn: 0.4080738\ttotal: 428ms\tremaining: 2.56s\n",
      "43:\tlearn: 0.4076206\ttotal: 436ms\tremaining: 2.53s\n",
      "44:\tlearn: 0.4069374\ttotal: 444ms\tremaining: 2.52s\n",
      "45:\tlearn: 0.4060812\ttotal: 451ms\tremaining: 2.49s\n",
      "46:\tlearn: 0.4054766\ttotal: 459ms\tremaining: 2.47s\n",
      "47:\tlearn: 0.4047549\ttotal: 468ms\tremaining: 2.46s\n",
      "48:\tlearn: 0.4035178\ttotal: 475ms\tremaining: 2.43s\n",
      "49:\tlearn: 0.4031646\ttotal: 483ms\tremaining: 2.42s\n",
      "50:\tlearn: 0.4025574\ttotal: 492ms\tremaining: 2.4s\n",
      "51:\tlearn: 0.4017885\ttotal: 499ms\tremaining: 2.38s\n",
      "52:\tlearn: 0.4013000\ttotal: 508ms\tremaining: 2.37s\n",
      "53:\tlearn: 0.4006926\ttotal: 515ms\tremaining: 2.35s\n",
      "54:\tlearn: 0.3996346\ttotal: 522ms\tremaining: 2.33s\n",
      "55:\tlearn: 0.3990503\ttotal: 529ms\tremaining: 2.3s\n",
      "56:\tlearn: 0.3982336\ttotal: 535ms\tremaining: 2.28s\n",
      "57:\tlearn: 0.3975825\ttotal: 542ms\tremaining: 2.26s\n",
      "58:\tlearn: 0.3970860\ttotal: 549ms\tremaining: 2.24s\n",
      "59:\tlearn: 0.3962446\ttotal: 557ms\tremaining: 2.23s\n",
      "60:\tlearn: 0.3955900\ttotal: 563ms\tremaining: 2.21s\n",
      "61:\tlearn: 0.3949376\ttotal: 571ms\tremaining: 2.19s\n",
      "62:\tlearn: 0.3943232\ttotal: 578ms\tremaining: 2.17s\n",
      "63:\tlearn: 0.3939743\ttotal: 585ms\tremaining: 2.16s\n",
      "64:\tlearn: 0.3930295\ttotal: 592ms\tremaining: 2.14s\n",
      "65:\tlearn: 0.3924988\ttotal: 599ms\tremaining: 2.12s\n",
      "66:\tlearn: 0.3918799\ttotal: 607ms\tremaining: 2.11s\n",
      "67:\tlearn: 0.3910613\ttotal: 614ms\tremaining: 2.1s\n",
      "68:\tlearn: 0.3905029\ttotal: 623ms\tremaining: 2.08s\n",
      "69:\tlearn: 0.3899977\ttotal: 629ms\tremaining: 2.07s\n",
      "70:\tlearn: 0.3895361\ttotal: 637ms\tremaining: 2.05s\n",
      "71:\tlearn: 0.3892527\ttotal: 645ms\tremaining: 2.04s\n",
      "72:\tlearn: 0.3887696\ttotal: 654ms\tremaining: 2.03s\n",
      "73:\tlearn: 0.3882681\ttotal: 661ms\tremaining: 2.02s\n",
      "74:\tlearn: 0.3878995\ttotal: 668ms\tremaining: 2s\n",
      "75:\tlearn: 0.3876434\ttotal: 675ms\tremaining: 1.99s\n",
      "76:\tlearn: 0.3870744\ttotal: 683ms\tremaining: 1.98s\n",
      "77:\tlearn: 0.3867825\ttotal: 691ms\tremaining: 1.97s\n",
      "78:\tlearn: 0.3865911\ttotal: 698ms\tremaining: 1.95s\n",
      "79:\tlearn: 0.3858017\ttotal: 707ms\tremaining: 1.94s\n",
      "80:\tlearn: 0.3852357\ttotal: 715ms\tremaining: 1.93s\n",
      "81:\tlearn: 0.3850082\ttotal: 722ms\tremaining: 1.92s\n",
      "82:\tlearn: 0.3847924\ttotal: 728ms\tremaining: 1.9s\n",
      "83:\tlearn: 0.3844503\ttotal: 736ms\tremaining: 1.89s\n",
      "84:\tlearn: 0.3837762\ttotal: 743ms\tremaining: 1.88s\n",
      "85:\tlearn: 0.3835124\ttotal: 751ms\tremaining: 1.87s\n",
      "86:\tlearn: 0.3830362\ttotal: 757ms\tremaining: 1.85s\n",
      "87:\tlearn: 0.3824482\ttotal: 765ms\tremaining: 1.84s\n",
      "88:\tlearn: 0.3819656\ttotal: 772ms\tremaining: 1.83s\n",
      "89:\tlearn: 0.3817195\ttotal: 779ms\tremaining: 1.82s\n",
      "90:\tlearn: 0.3813193\ttotal: 786ms\tremaining: 1.8s\n",
      "91:\tlearn: 0.3810335\ttotal: 794ms\tremaining: 1.79s\n",
      "92:\tlearn: 0.3807302\ttotal: 801ms\tremaining: 1.78s\n",
      "93:\tlearn: 0.3804370\ttotal: 808ms\tremaining: 1.77s\n",
      "94:\tlearn: 0.3800367\ttotal: 816ms\tremaining: 1.76s\n",
      "95:\tlearn: 0.3797476\ttotal: 823ms\tremaining: 1.75s\n",
      "96:\tlearn: 0.3794193\ttotal: 830ms\tremaining: 1.74s\n",
      "97:\tlearn: 0.3788764\ttotal: 837ms\tremaining: 1.73s\n",
      "98:\tlearn: 0.3785282\ttotal: 844ms\tremaining: 1.71s\n",
      "99:\tlearn: 0.3781503\ttotal: 852ms\tremaining: 1.7s\n",
      "100:\tlearn: 0.3777965\ttotal: 858ms\tremaining: 1.69s\n",
      "101:\tlearn: 0.3774421\ttotal: 866ms\tremaining: 1.68s\n",
      "102:\tlearn: 0.3772877\ttotal: 872ms\tremaining: 1.67s\n",
      "103:\tlearn: 0.3766050\ttotal: 879ms\tremaining: 1.66s\n",
      "104:\tlearn: 0.3761550\ttotal: 887ms\tremaining: 1.65s\n",
      "105:\tlearn: 0.3757217\ttotal: 895ms\tremaining: 1.64s\n",
      "106:\tlearn: 0.3753779\ttotal: 903ms\tremaining: 1.63s\n",
      "107:\tlearn: 0.3747246\ttotal: 910ms\tremaining: 1.62s\n",
      "108:\tlearn: 0.3744434\ttotal: 918ms\tremaining: 1.61s\n",
      "109:\tlearn: 0.3741601\ttotal: 926ms\tremaining: 1.6s\n",
      "110:\tlearn: 0.3735299\ttotal: 934ms\tremaining: 1.59s\n",
      "111:\tlearn: 0.3733293\ttotal: 940ms\tremaining: 1.58s\n",
      "112:\tlearn: 0.3730821\ttotal: 947ms\tremaining: 1.57s\n",
      "113:\tlearn: 0.3728280\ttotal: 954ms\tremaining: 1.56s\n",
      "114:\tlearn: 0.3724907\ttotal: 961ms\tremaining: 1.55s\n",
      "115:\tlearn: 0.3723159\ttotal: 969ms\tremaining: 1.54s\n",
      "116:\tlearn: 0.3717623\ttotal: 975ms\tremaining: 1.52s\n",
      "117:\tlearn: 0.3714028\ttotal: 982ms\tremaining: 1.51s\n",
      "118:\tlearn: 0.3710406\ttotal: 989ms\tremaining: 1.5s\n",
      "119:\tlearn: 0.3705451\ttotal: 996ms\tremaining: 1.49s\n",
      "120:\tlearn: 0.3702867\ttotal: 1s\tremaining: 1.48s\n",
      "121:\tlearn: 0.3700555\ttotal: 1.01s\tremaining: 1.48s\n",
      "122:\tlearn: 0.3699391\ttotal: 1.02s\tremaining: 1.47s\n",
      "123:\tlearn: 0.3697499\ttotal: 1.03s\tremaining: 1.46s\n",
      "124:\tlearn: 0.3696121\ttotal: 1.03s\tremaining: 1.45s\n",
      "125:\tlearn: 0.3693131\ttotal: 1.04s\tremaining: 1.44s\n",
      "126:\tlearn: 0.3690337\ttotal: 1.05s\tremaining: 1.43s\n",
      "127:\tlearn: 0.3686668\ttotal: 1.06s\tremaining: 1.42s\n",
      "128:\tlearn: 0.3679601\ttotal: 1.07s\tremaining: 1.41s\n",
      "129:\tlearn: 0.3676660\ttotal: 1.07s\tremaining: 1.4s\n",
      "130:\tlearn: 0.3675108\ttotal: 1.08s\tremaining: 1.39s\n",
      "131:\tlearn: 0.3673136\ttotal: 1.09s\tremaining: 1.38s\n",
      "132:\tlearn: 0.3670373\ttotal: 1.09s\tremaining: 1.37s\n",
      "133:\tlearn: 0.3667017\ttotal: 1.1s\tremaining: 1.37s\n",
      "134:\tlearn: 0.3662175\ttotal: 1.11s\tremaining: 1.36s\n",
      "135:\tlearn: 0.3655817\ttotal: 1.12s\tremaining: 1.35s\n",
      "136:\tlearn: 0.3653938\ttotal: 1.13s\tremaining: 1.34s\n",
      "137:\tlearn: 0.3651257\ttotal: 1.14s\tremaining: 1.33s\n",
      "138:\tlearn: 0.3647764\ttotal: 1.15s\tremaining: 1.33s\n",
      "139:\tlearn: 0.3644943\ttotal: 1.16s\tremaining: 1.32s\n",
      "140:\tlearn: 0.3641745\ttotal: 1.17s\tremaining: 1.31s\n",
      "141:\tlearn: 0.3637697\ttotal: 1.17s\tremaining: 1.3s\n",
      "142:\tlearn: 0.3634853\ttotal: 1.18s\tremaining: 1.3s\n",
      "143:\tlearn: 0.3632668\ttotal: 1.19s\tremaining: 1.29s\n",
      "144:\tlearn: 0.3629200\ttotal: 1.2s\tremaining: 1.28s\n",
      "145:\tlearn: 0.3626096\ttotal: 1.2s\tremaining: 1.27s\n",
      "146:\tlearn: 0.3624198\ttotal: 1.21s\tremaining: 1.26s\n",
      "147:\tlearn: 0.3621531\ttotal: 1.22s\tremaining: 1.25s\n",
      "148:\tlearn: 0.3618628\ttotal: 1.23s\tremaining: 1.25s\n",
      "149:\tlearn: 0.3615624\ttotal: 1.24s\tremaining: 1.24s\n",
      "150:\tlearn: 0.3613379\ttotal: 1.24s\tremaining: 1.23s\n",
      "151:\tlearn: 0.3610663\ttotal: 1.25s\tremaining: 1.22s\n",
      "152:\tlearn: 0.3607626\ttotal: 1.26s\tremaining: 1.21s\n",
      "153:\tlearn: 0.3603195\ttotal: 1.27s\tremaining: 1.2s\n",
      "154:\tlearn: 0.3600150\ttotal: 1.27s\tremaining: 1.19s\n",
      "155:\tlearn: 0.3598363\ttotal: 1.28s\tremaining: 1.18s\n",
      "156:\tlearn: 0.3596006\ttotal: 1.29s\tremaining: 1.18s\n",
      "157:\tlearn: 0.3593535\ttotal: 1.3s\tremaining: 1.17s\n",
      "158:\tlearn: 0.3590349\ttotal: 1.31s\tremaining: 1.16s\n",
      "159:\tlearn: 0.3585021\ttotal: 1.31s\tremaining: 1.15s\n",
      "160:\tlearn: 0.3581613\ttotal: 1.32s\tremaining: 1.14s\n",
      "161:\tlearn: 0.3578500\ttotal: 1.33s\tremaining: 1.13s\n",
      "162:\tlearn: 0.3576139\ttotal: 1.34s\tremaining: 1.12s\n",
      "163:\tlearn: 0.3572909\ttotal: 1.35s\tremaining: 1.12s\n",
      "164:\tlearn: 0.3570873\ttotal: 1.35s\tremaining: 1.11s\n",
      "165:\tlearn: 0.3569393\ttotal: 1.36s\tremaining: 1.1s\n",
      "166:\tlearn: 0.3566825\ttotal: 1.37s\tremaining: 1.09s\n",
      "167:\tlearn: 0.3564930\ttotal: 1.38s\tremaining: 1.08s\n",
      "168:\tlearn: 0.3563268\ttotal: 1.39s\tremaining: 1.07s\n",
      "169:\tlearn: 0.3560489\ttotal: 1.39s\tremaining: 1.06s\n",
      "170:\tlearn: 0.3558827\ttotal: 1.4s\tremaining: 1.06s\n",
      "171:\tlearn: 0.3556950\ttotal: 1.41s\tremaining: 1.05s\n",
      "172:\tlearn: 0.3554301\ttotal: 1.42s\tremaining: 1.04s\n",
      "173:\tlearn: 0.3552364\ttotal: 1.42s\tremaining: 1.03s\n",
      "174:\tlearn: 0.3550829\ttotal: 1.43s\tremaining: 1.02s\n",
      "175:\tlearn: 0.3548346\ttotal: 1.44s\tremaining: 1.01s\n",
      "176:\tlearn: 0.3545088\ttotal: 1.45s\tremaining: 1s\n",
      "177:\tlearn: 0.3542979\ttotal: 1.45s\tremaining: 996ms\n",
      "178:\tlearn: 0.3541029\ttotal: 1.46s\tremaining: 987ms\n",
      "179:\tlearn: 0.3537951\ttotal: 1.47s\tremaining: 978ms\n",
      "180:\tlearn: 0.3536625\ttotal: 1.48s\tremaining: 970ms\n",
      "181:\tlearn: 0.3533064\ttotal: 1.48s\tremaining: 961ms\n",
      "182:\tlearn: 0.3530818\ttotal: 1.49s\tremaining: 952ms\n",
      "183:\tlearn: 0.3528252\ttotal: 1.5s\tremaining: 944ms\n",
      "184:\tlearn: 0.3526194\ttotal: 1.5s\tremaining: 935ms\n",
      "185:\tlearn: 0.3524741\ttotal: 1.51s\tremaining: 927ms\n",
      "186:\tlearn: 0.3523524\ttotal: 1.52s\tremaining: 918ms\n",
      "187:\tlearn: 0.3521575\ttotal: 1.53s\tremaining: 909ms\n",
      "188:\tlearn: 0.3518515\ttotal: 1.53s\tremaining: 900ms\n",
      "189:\tlearn: 0.3515806\ttotal: 1.54s\tremaining: 893ms\n",
      "190:\tlearn: 0.3513445\ttotal: 1.55s\tremaining: 884ms\n",
      "191:\tlearn: 0.3511870\ttotal: 1.56s\tremaining: 876ms\n",
      "192:\tlearn: 0.3509626\ttotal: 1.56s\tremaining: 867ms\n",
      "193:\tlearn: 0.3507819\ttotal: 1.57s\tremaining: 859ms\n",
      "194:\tlearn: 0.3506390\ttotal: 1.58s\tremaining: 850ms\n",
      "195:\tlearn: 0.3504257\ttotal: 1.58s\tremaining: 841ms\n",
      "196:\tlearn: 0.3502911\ttotal: 1.59s\tremaining: 833ms\n",
      "197:\tlearn: 0.3500546\ttotal: 1.6s\tremaining: 824ms\n",
      "198:\tlearn: 0.3497922\ttotal: 1.61s\tremaining: 816ms\n",
      "199:\tlearn: 0.3495038\ttotal: 1.61s\tremaining: 808ms\n",
      "200:\tlearn: 0.3491566\ttotal: 1.62s\tremaining: 800ms\n",
      "201:\tlearn: 0.3489220\ttotal: 1.63s\tremaining: 791ms\n",
      "202:\tlearn: 0.3487452\ttotal: 1.64s\tremaining: 783ms\n",
      "203:\tlearn: 0.3484593\ttotal: 1.65s\tremaining: 775ms\n",
      "204:\tlearn: 0.3481253\ttotal: 1.66s\tremaining: 768ms\n",
      "205:\tlearn: 0.3479745\ttotal: 1.66s\tremaining: 759ms\n",
      "206:\tlearn: 0.3477919\ttotal: 1.67s\tremaining: 751ms\n",
      "207:\tlearn: 0.3475008\ttotal: 1.68s\tremaining: 742ms\n",
      "208:\tlearn: 0.3472773\ttotal: 1.68s\tremaining: 733ms\n",
      "209:\tlearn: 0.3471569\ttotal: 1.69s\tremaining: 725ms\n",
      "210:\tlearn: 0.3469555\ttotal: 1.7s\tremaining: 718ms\n",
      "211:\tlearn: 0.3467622\ttotal: 1.71s\tremaining: 710ms\n",
      "212:\tlearn: 0.3466111\ttotal: 1.72s\tremaining: 702ms\n",
      "213:\tlearn: 0.3464163\ttotal: 1.73s\tremaining: 694ms\n",
      "214:\tlearn: 0.3462019\ttotal: 1.73s\tremaining: 685ms\n",
      "215:\tlearn: 0.3460949\ttotal: 1.74s\tremaining: 677ms\n",
      "216:\tlearn: 0.3458700\ttotal: 1.75s\tremaining: 669ms\n",
      "217:\tlearn: 0.3455619\ttotal: 1.76s\tremaining: 661ms\n",
      "218:\tlearn: 0.3452523\ttotal: 1.76s\tremaining: 653ms\n",
      "219:\tlearn: 0.3450922\ttotal: 1.77s\tremaining: 644ms\n",
      "220:\tlearn: 0.3449468\ttotal: 1.78s\tremaining: 636ms\n",
      "221:\tlearn: 0.3447025\ttotal: 1.79s\tremaining: 628ms\n",
      "222:\tlearn: 0.3445487\ttotal: 1.79s\tremaining: 619ms\n",
      "223:\tlearn: 0.3441855\ttotal: 1.8s\tremaining: 611ms\n",
      "224:\tlearn: 0.3439802\ttotal: 1.81s\tremaining: 603ms\n",
      "225:\tlearn: 0.3437294\ttotal: 1.82s\tremaining: 595ms\n",
      "226:\tlearn: 0.3433366\ttotal: 1.82s\tremaining: 587ms\n",
      "227:\tlearn: 0.3430053\ttotal: 1.83s\tremaining: 579ms\n",
      "228:\tlearn: 0.3428181\ttotal: 1.84s\tremaining: 571ms\n",
      "229:\tlearn: 0.3424852\ttotal: 1.85s\tremaining: 563ms\n",
      "230:\tlearn: 0.3421952\ttotal: 1.86s\tremaining: 555ms\n",
      "231:\tlearn: 0.3419717\ttotal: 1.86s\tremaining: 547ms\n",
      "232:\tlearn: 0.3418016\ttotal: 1.87s\tremaining: 539ms\n",
      "233:\tlearn: 0.3415176\ttotal: 1.88s\tremaining: 530ms\n",
      "234:\tlearn: 0.3411415\ttotal: 1.89s\tremaining: 522ms\n",
      "235:\tlearn: 0.3409524\ttotal: 1.9s\tremaining: 514ms\n",
      "236:\tlearn: 0.3407621\ttotal: 1.91s\tremaining: 507ms\n",
      "237:\tlearn: 0.3403866\ttotal: 1.91s\tremaining: 498ms\n",
      "238:\tlearn: 0.3401349\ttotal: 1.92s\tremaining: 490ms\n",
      "239:\tlearn: 0.3399281\ttotal: 1.93s\tremaining: 482ms\n",
      "240:\tlearn: 0.3397273\ttotal: 1.93s\tremaining: 474ms\n",
      "241:\tlearn: 0.3396099\ttotal: 1.94s\tremaining: 465ms\n",
      "242:\tlearn: 0.3393169\ttotal: 1.95s\tremaining: 457ms\n",
      "243:\tlearn: 0.3389722\ttotal: 1.96s\tremaining: 449ms\n",
      "244:\tlearn: 0.3387868\ttotal: 1.96s\tremaining: 441ms\n",
      "245:\tlearn: 0.3386127\ttotal: 1.97s\tremaining: 433ms\n",
      "246:\tlearn: 0.3383521\ttotal: 1.98s\tremaining: 425ms\n",
      "247:\tlearn: 0.3382104\ttotal: 1.99s\tremaining: 416ms\n",
      "248:\tlearn: 0.3380702\ttotal: 1.99s\tremaining: 408ms\n",
      "249:\tlearn: 0.3378547\ttotal: 2s\tremaining: 400ms\n",
      "250:\tlearn: 0.3375469\ttotal: 2.01s\tremaining: 392ms\n",
      "251:\tlearn: 0.3371671\ttotal: 2.01s\tremaining: 384ms\n",
      "252:\tlearn: 0.3369138\ttotal: 2.02s\tremaining: 376ms\n",
      "253:\tlearn: 0.3367904\ttotal: 2.03s\tremaining: 368ms\n",
      "254:\tlearn: 0.3365878\ttotal: 2.04s\tremaining: 360ms\n",
      "255:\tlearn: 0.3363801\ttotal: 2.04s\tremaining: 351ms\n",
      "256:\tlearn: 0.3361620\ttotal: 2.05s\tremaining: 344ms\n",
      "257:\tlearn: 0.3359070\ttotal: 2.06s\tremaining: 336ms\n",
      "258:\tlearn: 0.3357335\ttotal: 2.07s\tremaining: 328ms\n",
      "259:\tlearn: 0.3354372\ttotal: 2.08s\tremaining: 319ms\n",
      "260:\tlearn: 0.3352097\ttotal: 2.08s\tremaining: 311ms\n",
      "261:\tlearn: 0.3350504\ttotal: 2.09s\tremaining: 303ms\n",
      "262:\tlearn: 0.3347364\ttotal: 2.1s\tremaining: 295ms\n",
      "263:\tlearn: 0.3344369\ttotal: 2.11s\tremaining: 287ms\n",
      "264:\tlearn: 0.3341671\ttotal: 2.12s\tremaining: 279ms\n",
      "265:\tlearn: 0.3339587\ttotal: 2.12s\tremaining: 271ms\n",
      "266:\tlearn: 0.3338106\ttotal: 2.13s\tremaining: 263ms\n",
      "267:\tlearn: 0.3335548\ttotal: 2.14s\tremaining: 255ms\n",
      "268:\tlearn: 0.3333774\ttotal: 2.15s\tremaining: 248ms\n",
      "269:\tlearn: 0.3332499\ttotal: 2.15s\tremaining: 239ms\n",
      "270:\tlearn: 0.3329395\ttotal: 2.16s\tremaining: 232ms\n",
      "271:\tlearn: 0.3327873\ttotal: 2.17s\tremaining: 223ms\n",
      "272:\tlearn: 0.3326386\ttotal: 2.18s\tremaining: 215ms\n",
      "273:\tlearn: 0.3324820\ttotal: 2.19s\tremaining: 207ms\n",
      "274:\tlearn: 0.3323421\ttotal: 2.19s\tremaining: 199ms\n",
      "275:\tlearn: 0.3321500\ttotal: 2.2s\tremaining: 191ms\n",
      "276:\tlearn: 0.3320428\ttotal: 2.21s\tremaining: 183ms\n",
      "277:\tlearn: 0.3317587\ttotal: 2.21s\tremaining: 175ms\n",
      "278:\tlearn: 0.3315776\ttotal: 2.22s\tremaining: 167ms\n",
      "279:\tlearn: 0.3314401\ttotal: 2.23s\tremaining: 159ms\n",
      "280:\tlearn: 0.3311661\ttotal: 2.24s\tremaining: 151ms\n",
      "281:\tlearn: 0.3308330\ttotal: 2.25s\tremaining: 143ms\n",
      "282:\tlearn: 0.3306727\ttotal: 2.26s\tremaining: 136ms\n",
      "283:\tlearn: 0.3305239\ttotal: 2.26s\tremaining: 128ms\n",
      "284:\tlearn: 0.3302572\ttotal: 2.27s\tremaining: 120ms\n",
      "285:\tlearn: 0.3299810\ttotal: 2.28s\tremaining: 112ms\n",
      "286:\tlearn: 0.3296162\ttotal: 2.29s\tremaining: 104ms\n",
      "287:\tlearn: 0.3294789\ttotal: 2.3s\tremaining: 95.8ms\n",
      "288:\tlearn: 0.3293570\ttotal: 2.31s\tremaining: 87.8ms\n",
      "289:\tlearn: 0.3290836\ttotal: 2.31s\tremaining: 79.8ms\n",
      "290:\tlearn: 0.3289988\ttotal: 2.32s\tremaining: 71.8ms\n",
      "291:\tlearn: 0.3287995\ttotal: 2.33s\tremaining: 63.8ms\n",
      "292:\tlearn: 0.3286039\ttotal: 2.33s\tremaining: 55.8ms\n",
      "293:\tlearn: 0.3284311\ttotal: 2.34s\tremaining: 47.8ms\n",
      "294:\tlearn: 0.3282832\ttotal: 2.35s\tremaining: 39.8ms\n",
      "295:\tlearn: 0.3280874\ttotal: 2.36s\tremaining: 31.9ms\n",
      "296:\tlearn: 0.3278589\ttotal: 2.37s\tremaining: 23.9ms\n",
      "297:\tlearn: 0.3276163\ttotal: 2.37s\tremaining: 15.9ms\n",
      "298:\tlearn: 0.3275177\ttotal: 2.38s\tremaining: 7.96ms\n",
      "299:\tlearn: 0.3273846\ttotal: 2.39s\tremaining: 0us\n"
     ]
    }
   ],
   "source": [
    "import catboost as cb\n",
    "cb = cb.CatBoostClassifier(n_estimators=300,random_state=42)\n",
    "cb.fit(x_train,y_train)\n",
    "y_pred = cb.predict(x_test)"
   ]
  },
  {
   "cell_type": "code",
   "execution_count": 18,
   "metadata": {},
   "outputs": [
    {
     "name": "stdout",
     "output_type": "stream",
     "text": [
      "Accuracy: 0.5395135533535337\n",
      "              precision    recall  f1-score   support\n",
      "\n",
      "           0       0.91      0.53      0.67     10433\n",
      "           1       0.19      0.70      0.30      1185\n",
      "           2       0.11      0.47      0.17       363\n",
      "           3       0.29      0.12      0.17       127\n",
      "           4       0.00      0.00      0.00       103\n",
      "\n",
      "    accuracy                           0.54     12211\n",
      "   macro avg       0.30      0.36      0.26     12211\n",
      "weighted avg       0.80      0.54      0.61     12211\n",
      "\n",
      "[[5568 3500 1327   35    3]\n",
      " [ 275  835   73    2    0]\n",
      " [ 168   25  170    0    0]\n",
      " [  52   42   18   15    0]\n",
      " [  69   26    8    0    0]]\n"
     ]
    }
   ],
   "source": [
    "get_metrics(y_test,y_pred)"
   ]
  },
  {
   "cell_type": "code",
   "execution_count": 19,
   "metadata": {},
   "outputs": [],
   "source": [
    "classifiers = [lgb,rf,dt,xgb]"
   ]
  },
  {
   "cell_type": "code",
   "execution_count": 20,
   "metadata": {},
   "outputs": [],
   "source": [
    "from pso import PSO\n",
    "ensemble = PSO(n_particles=20, inertia=0.9, cognitive_constant=2, social_constant=2,classifiers=classifiers,initial_fitness=-float('inf'),max_iter=10,max_inertia=0.9,min_inertia=0.4)"
   ]
  },
  {
   "cell_type": "code",
   "execution_count": 21,
   "metadata": {},
   "outputs": [
    {
     "name": "stderr",
     "output_type": "stream",
     "text": [
      " 10%|█         | 1/10 [00:11<01:47, 11.92s/it]"
     ]
    },
    {
     "name": "stdout",
     "output_type": "stream",
     "text": [
      "0.7435\n"
     ]
    },
    {
     "name": "stderr",
     "output_type": "stream",
     "text": [
      " 20%|██        | 2/10 [00:23<01:34, 11.81s/it]"
     ]
    },
    {
     "name": "stdout",
     "output_type": "stream",
     "text": [
      "0.8516\n"
     ]
    },
    {
     "name": "stderr",
     "output_type": "stream",
     "text": [
      " 30%|███       | 3/10 [00:36<01:25, 12.21s/it]"
     ]
    },
    {
     "name": "stdout",
     "output_type": "stream",
     "text": [
      "0.8516\n"
     ]
    },
    {
     "name": "stderr",
     "output_type": "stream",
     "text": [
      " 40%|████      | 4/10 [00:50<01:18, 13.12s/it]"
     ]
    },
    {
     "name": "stdout",
     "output_type": "stream",
     "text": [
      "0.8516\n"
     ]
    },
    {
     "name": "stderr",
     "output_type": "stream",
     "text": [
      " 50%|█████     | 5/10 [01:03<01:05, 13.05s/it]"
     ]
    },
    {
     "name": "stdout",
     "output_type": "stream",
     "text": [
      "0.8516\n"
     ]
    },
    {
     "name": "stderr",
     "output_type": "stream",
     "text": [
      " 60%|██████    | 6/10 [01:17<00:53, 13.44s/it]"
     ]
    },
    {
     "name": "stdout",
     "output_type": "stream",
     "text": [
      "0.8516\n"
     ]
    },
    {
     "name": "stderr",
     "output_type": "stream",
     "text": [
      " 70%|███████   | 7/10 [01:31<00:40, 13.40s/it]"
     ]
    },
    {
     "name": "stdout",
     "output_type": "stream",
     "text": [
      "0.8516\n"
     ]
    },
    {
     "name": "stderr",
     "output_type": "stream",
     "text": [
      " 70%|███████   | 7/10 [01:43<00:44, 14.84s/it]\n"
     ]
    },
    {
     "data": {
      "text/plain": [
       "[0.7435, 0.8516, 0.8516, 0.8516, 0.8516, 0.8516, 0.8516, 0.8516]"
      ]
     },
     "execution_count": 21,
     "metadata": {},
     "output_type": "execute_result"
    }
   ],
   "source": [
    "ensemble.fit(x_train,y_train,x_test,y_test)"
   ]
  },
  {
   "cell_type": "code",
   "execution_count": null,
   "metadata": {},
   "outputs": [],
   "source": []
  },
  {
   "cell_type": "code",
   "execution_count": 6,
   "metadata": {},
   "outputs": [
    {
     "name": "stdout",
     "output_type": "stream",
     "text": [
      "/bin/bash: /home/mircea/anaconda3/lib/python3.11/site-packages/cv2/../../../../lib/libtinfo.so.6: no version information available (required by /bin/bash)\n",
      "Collecting torcheval\n",
      "  Downloading torcheval-0.0.7-py3-none-any.whl.metadata (8.6 kB)\n",
      "Requirement already satisfied: typing-extensions in /home/mircea/anaconda3/lib/python3.11/site-packages (from torcheval) (4.7.1)\n",
      "Downloading torcheval-0.0.7-py3-none-any.whl (179 kB)\n",
      "\u001b[2K   \u001b[38;2;114;156;31m━━━━━━━━━━━━━━━━━━━━━━━━━━━━━━━━━━━━━━━━\u001b[0m \u001b[32m179.2/179.2 kB\u001b[0m \u001b[31m1.8 MB/s\u001b[0m eta \u001b[36m0:00:00\u001b[0m MB/s\u001b[0m eta \u001b[36m0:00:01\u001b[0m\n",
      "\u001b[?25hInstalling collected packages: torcheval\n",
      "Successfully installed torcheval-0.0.7\n"
     ]
    }
   ],
   "source": [
    "!pip install torcheval"
   ]
  },
  {
   "cell_type": "code",
   "execution_count": 12,
   "metadata": {},
   "outputs": [],
   "source": []
  }
 ],
 "metadata": {
  "kernelspec": {
   "display_name": "ami_venv",
   "language": "python",
   "name": "python3"
  },
  "language_info": {
   "codemirror_mode": {
    "name": "ipython",
    "version": 3
   },
   "file_extension": ".py",
   "mimetype": "text/x-python",
   "name": "python",
   "nbconvert_exporter": "python",
   "pygments_lexer": "ipython3",
   "version": "3.11.5"
  }
 },
 "nbformat": 4,
 "nbformat_minor": 2
}
